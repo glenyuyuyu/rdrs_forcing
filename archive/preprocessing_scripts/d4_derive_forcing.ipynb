{
 "cells": [
  {
   "cell_type": "code",
   "execution_count": 26,
   "id": "edb9648d",
   "metadata": {},
   "outputs": [],
   "source": [
    "from pathlib import Path\n",
    "import numpy as np\n",
    "import pandas as pd\n",
    "import xarray as xr\n",
    "import functools\n",
    "import multiprocessing as mp\n",
    "import os, sys\n",
    "from tqdm import *\n",
    "import pickle\n",
    "import warnings\n",
    "warnings.filterwarnings(\"ignore\")\n",
    "\n",
    "project_root = Path('/home/glen/works/forcing_generate_test/')\n",
    "basin_id = '04040000'\n",
    "\n",
    "forcingcsv_dir = Path(project_root / 'forcing_csvs')\n",
    "\n",
    "rdrs = xr.open_dataset(project_root / 'generated'/ 'RDRSv2.1_precip_UTC5_1h.nc')\n",
    "time = rdrs['time'].to_series().reset_index(drop=True)\n",
    "with open(project_root / 'datetime.pkl','wb') as f:\n",
    "    pickle.dump(time, f)\n"
   ]
  },
  {
   "cell_type": "code",
   "execution_count": 27,
   "id": "484e6bb6",
   "metadata": {},
   "outputs": [],
   "source": [
    "# Global variables will be used in the following functions\n",
    "all_ids = []\n",
    "all_cells = {}\n",
    "all_weights = {}\n",
    "\n",
    "\n",
    "with open(project_root / 'generated'/ f'grid_weights_{basin_id}.txt') as file:\n",
    "    lines = [line.rstrip() for line in file][7:-1]\n",
    "\n",
    "all_ids.append(basin_id)\n",
    "all_cells[basin_id] = []\n",
    "all_weights[basin_id] = []\n",
    "\n",
    "for line in lines:\n",
    "    temp = line.split()\n",
    "    all_cells[basin_id].append(int(temp[1]))\n",
    "    all_weights[basin_id].append(float(temp[2]))"
   ]
  },
  {
   "cell_type": "code",
   "execution_count": 28,
   "id": "0e9b4aec",
   "metadata": {},
   "outputs": [],
   "source": [
    "# Test\n",
    "flat_variable_array = np.load(Path(project_root / f'forcing_variables/RDRS_v2.1_A_PR0_SFC.npy'))\n",
    "subbasin_cells = tuple(all_cells[basin_id])\n",
    "subbasin_weights = tuple(all_weights[basin_id])\n",
    "subset = np.take(flat_variable_array, subbasin_cells, 1)\n",
    "\n",
    "a = np.array(subbasin_weights)\n",
    "day_sum = 0\n",
    "for i in range(16,40):\n",
    "    b = subset[i]\n",
    "    weighted = np.sum(a*b)\n",
    "    day_sum += weighted"
   ]
  },
  {
   "cell_type": "code",
   "execution_count": 53,
   "id": "5d872f9a",
   "metadata": {},
   "outputs": [],
   "source": [
    "@functools.lru_cache(maxsize = None)\n",
    "def load_variable_to_csv(variable_name : str, sub_cells: tuple, sub_weights: tuple, subbasin_id: str):\n",
    "    subbasin_csv = subbasin_id + '.csv'\n",
    "    csv_path = Path(forcingcsv_dir / subbasin_csv)\n",
    "\n",
    "    with open(project_root / 'datetime.pkl', 'rb') as file:\n",
    "        datetime_series = pickle.load(file)\n",
    "\n",
    "    if not csv_path.is_file():\n",
    "        subbasin_df = pd.DataFrame(datetime_series)\n",
    "        subbasin_df.rename(columns={'time': 'Datetime'}, inplace=True)\n",
    "        subbasin_df.to_csv(csv_path)\n",
    "    subbasin_df = pd.read_csv(csv_path, index_col=[0])\n",
    "\n",
    "    flat_variable_array = np.load(Path(project_root / f'forcing_variables/{variable_name}.npy')) # all values of a given variable\n",
    "    subset = np.take(flat_variable_array, sub_cells, 1) # select variable values that overlaid with the target subbasin (during the entire study period)\n",
    "\n",
    "    for day in range(len(subbasin_df)):\n",
    "        all_cells_daily_values = subset[day]\n",
    "        variable_value = 0\n",
    "        for cell_index in range(len(sub_cells)):\n",
    "            increment = all_cells_daily_values[cell_index] * sub_weights[cell_index]\n",
    "            if np.isnan(increment):\n",
    "                variable_value = variable_value + 0\n",
    "            else:\n",
    "                variable_value = variable_value + increment\n",
    "        subbasin_df.loc[day, variable_name] = variable_value\n",
    "    \n",
    "    subbasin_df.to_csv(csv_path)\n",
    "    \n",
    "\n",
    "def clear1():\n",
    "    load_variable_to_csv.cache_clear()\n",
    "\n",
    "\n",
    "@functools.lru_cache(maxsize = None)\n",
    "def create_subbasin_forcings(sub_id: str, variables: tuple):\n",
    "\n",
    "    subbasin_cells = tuple(all_cells[sub_id])\n",
    "    subbasin_weights = tuple(all_weights[sub_id])\n",
    "\n",
    "    for variable in variables:\n",
    "        load_variable_to_csv(variable, subbasin_cells, subbasin_weights, sub_id)\n",
    "        clear1()\n",
    "\n",
    "\n",
    "def clear2():\n",
    "    create_subbasin_forcings.cache_clear()\n",
    "\n",
    "\n",
    "def wrapper(subid: str):\n",
    "    \n",
    "    variables_list = os.listdir(project_root / 'forcing_variables')\n",
    "    for i in range(len(variables_list)):\n",
    "        variables_list[i] = variables_list[i][:-4]\n",
    "    all_variables = tuple(variables_list)\n",
    "    \n",
    "    create_subbasin_forcings(subid, all_variables)\n",
    "    clear2()"
   ]
  },
  {
   "cell_type": "code",
   "execution_count": 54,
   "id": "d6efbe83",
   "metadata": {},
   "outputs": [
    {
     "name": "stderr",
     "output_type": "stream",
     "text": [
      "100%|██████████| 1/1 [00:38<00:00, 38.68s/it]\n"
     ]
    }
   ],
   "source": [
    "with mp.Pool(processes = 3) as p:\n",
    "    max_ = len(all_ids)\n",
    "    with tqdm(total = max_) as pbar:\n",
    "        for _ in p.imap_unordered(wrapper, all_ids):\n",
    "            pbar.update()"
   ]
  }
 ],
 "metadata": {
  "kernelspec": {
   "display_name": "srlstm",
   "language": "python",
   "name": "python3"
  },
  "language_info": {
   "codemirror_mode": {
    "name": "ipython",
    "version": 3
   },
   "file_extension": ".py",
   "mimetype": "text/x-python",
   "name": "python",
   "nbconvert_exporter": "python",
   "pygments_lexer": "ipython3",
   "version": "3.10.2"
  },
  "vscode": {
   "interpreter": {
    "hash": "09a452f0b3be5114134fdeb5eff7f48a6822774ed7b289d2a6803e07a5e24a68"
   }
  }
 },
 "nbformat": 4,
 "nbformat_minor": 5
}
