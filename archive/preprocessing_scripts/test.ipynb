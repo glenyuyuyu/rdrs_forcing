{
 "cells": [
  {
   "cell_type": "code",
   "execution_count": 10,
   "id": "d9f17e67",
   "metadata": {},
   "outputs": [],
   "source": [
    "import os, sys\n",
    "from pathlib import Path\n",
    "import xarray as xr\n",
    "import pandas as pd\n",
    "import numpy as np\n",
    "\n",
    "project_root = Path('/home/glen/works/forcing_generate_test/')\n",
    "basin_id = '04040000'\n",
    "\n",
    "forcing = pd.read_csv(project_root / 'forcing_csvs' / f'{basin_id}.csv', index_col='Datetime', usecols=[1,2])\n",
    "forcing['date'] = pd.to_datetime(forcing.index).shift(-1, freq = 'H')\n",
    "forcing = forcing.set_index('date')"
   ]
  },
  {
   "cell_type": "code",
   "execution_count": 11,
   "id": "d642dace",
   "metadata": {},
   "outputs": [
    {
     "data": {
      "text/html": [
       "<div>\n",
       "<style scoped>\n",
       "    .dataframe tbody tr th:only-of-type {\n",
       "        vertical-align: middle;\n",
       "    }\n",
       "\n",
       "    .dataframe tbody tr th {\n",
       "        vertical-align: top;\n",
       "    }\n",
       "\n",
       "    .dataframe thead th {\n",
       "        text-align: right;\n",
       "    }\n",
       "</style>\n",
       "<table border=\"1\" class=\"dataframe\">\n",
       "  <thead>\n",
       "    <tr style=\"text-align: right;\">\n",
       "      <th></th>\n",
       "      <th>RDRS_v2.1_A_PR0_SFC</th>\n",
       "    </tr>\n",
       "    <tr>\n",
       "      <th>date</th>\n",
       "      <th></th>\n",
       "    </tr>\n",
       "  </thead>\n",
       "  <tbody>\n",
       "    <tr>\n",
       "      <th>1980-01-01 07:00:00</th>\n",
       "      <td>0.000041</td>\n",
       "    </tr>\n",
       "    <tr>\n",
       "      <th>1980-01-01 08:00:00</th>\n",
       "      <td>0.000037</td>\n",
       "    </tr>\n",
       "    <tr>\n",
       "      <th>1980-01-01 09:00:00</th>\n",
       "      <td>0.000035</td>\n",
       "    </tr>\n",
       "    <tr>\n",
       "      <th>1980-01-01 10:00:00</th>\n",
       "      <td>0.000035</td>\n",
       "    </tr>\n",
       "    <tr>\n",
       "      <th>1980-01-01 11:00:00</th>\n",
       "      <td>0.000039</td>\n",
       "    </tr>\n",
       "    <tr>\n",
       "      <th>...</th>\n",
       "      <td>...</td>\n",
       "    </tr>\n",
       "    <tr>\n",
       "      <th>2018-01-01 02:00:00</th>\n",
       "      <td>0.000032</td>\n",
       "    </tr>\n",
       "    <tr>\n",
       "      <th>2018-01-01 03:00:00</th>\n",
       "      <td>0.000029</td>\n",
       "    </tr>\n",
       "    <tr>\n",
       "      <th>2018-01-01 04:00:00</th>\n",
       "      <td>0.000027</td>\n",
       "    </tr>\n",
       "    <tr>\n",
       "      <th>2018-01-01 05:00:00</th>\n",
       "      <td>0.000026</td>\n",
       "    </tr>\n",
       "    <tr>\n",
       "      <th>2018-01-01 06:00:00</th>\n",
       "      <td>0.000028</td>\n",
       "    </tr>\n",
       "  </tbody>\n",
       "</table>\n",
       "<p>333120 rows × 1 columns</p>\n",
       "</div>"
      ],
      "text/plain": [
       "                     RDRS_v2.1_A_PR0_SFC\n",
       "date                                    \n",
       "1980-01-01 07:00:00             0.000041\n",
       "1980-01-01 08:00:00             0.000037\n",
       "1980-01-01 09:00:00             0.000035\n",
       "1980-01-01 10:00:00             0.000035\n",
       "1980-01-01 11:00:00             0.000039\n",
       "...                                  ...\n",
       "2018-01-01 02:00:00             0.000032\n",
       "2018-01-01 03:00:00             0.000029\n",
       "2018-01-01 04:00:00             0.000027\n",
       "2018-01-01 05:00:00             0.000026\n",
       "2018-01-01 06:00:00             0.000028\n",
       "\n",
       "[333120 rows x 1 columns]"
      ]
     },
     "execution_count": 11,
     "metadata": {},
     "output_type": "execute_result"
    }
   ],
   "source": [
    "forcing"
   ]
  },
  {
   "cell_type": "code",
   "execution_count": 12,
   "id": "120b47ff",
   "metadata": {},
   "outputs": [],
   "source": [
    "daily = forcing.resample(\"1D\").sum()\n",
    "monthly = forcing.resample(\"1M\").sum()"
   ]
  },
  {
   "cell_type": "code",
   "execution_count": 14,
   "id": "2c06749e",
   "metadata": {},
   "outputs": [],
   "source": [
    "rez_daily = pd.read_csv(project_root / 'Rezgar result' / 'daily.csv', index_col=[0])\n",
    "rez_daily['date'] = pd.to_datetime(rez_daily.index)\n",
    "rez_daily = rez_daily.set_index('date')\n",
    "all_daily = daily.join(rez_daily)\n",
    "all_daily['RDRS_v2.1_A_PR0_SFC'] = daily['RDRS_v2.1_A_PR0_SFC']*1000\n",
    "all_daily.rename(columns={'RDRS_v2.1_A_PR0_SFC':'Glen result','p':'Rezgar Result'},inplace=True)\n",
    "all_daily.to_csv('daily_precip_Glen_Rezgar.csv')\n",
    "\n",
    "\n",
    "rez_monthly = pd.read_csv(project_root / 'Rezgar result' / 'monthly.csv',usecols=[1])\n",
    "all_monthly = monthly.reset_index().join(rez_monthly)\n",
    "all_monthly = all_monthly.set_index('date')\n",
    "all_monthly['RDRS_v2.1_A_PR0_SFC'] = monthly['RDRS_v2.1_A_PR0_SFC']*1000\n",
    "all_monthly.rename(columns={'RDRS_v2.1_A_PR0_SFC':'Glen result','p':'Rezgar Result'},inplace=True)\n",
    "all_monthly.to_csv('Monthly_precip_Glen_Rezgar.csv')"
   ]
  },
  {
   "cell_type": "code",
   "execution_count": null,
   "id": "5ac99f4e",
   "metadata": {},
   "outputs": [],
   "source": []
  }
 ],
 "metadata": {
  "kernelspec": {
   "display_name": "srlstm",
   "language": "python",
   "name": "python3"
  },
  "language_info": {
   "codemirror_mode": {
    "name": "ipython",
    "version": 3
   },
   "file_extension": ".py",
   "mimetype": "text/x-python",
   "name": "python",
   "nbconvert_exporter": "python",
   "pygments_lexer": "ipython3",
   "version": "3.10.2"
  },
  "vscode": {
   "interpreter": {
    "hash": "09a452f0b3be5114134fdeb5eff7f48a6822774ed7b289d2a6803e07a5e24a68"
   }
  }
 },
 "nbformat": 4,
 "nbformat_minor": 5
}
