{
 "cells": [
  {
   "cell_type": "code",
   "execution_count": 11,
   "metadata": {},
   "outputs": [],
   "source": [
    "import os, sys\n",
    "from pathlib import Path\n",
    "import xarray as xr\n",
    "import geopandas as gpd\n",
    "\n",
    "project_root = Path('/home/glen/works/forcing_generate_test/')\n",
    "basin_id = '04040000'"
   ]
  },
  {
   "cell_type": "code",
   "execution_count": 12,
   "id": "01f89a6e",
   "metadata": {},
   "outputs": [],
   "source": [
    "subbasins_shp = gpd.read_file(project_root / f'GRIP-GL_shapefiles' / 'GRIP_GL_141_calibration_catchment_info.shp')\n",
    "\n",
    "sel = subbasins_shp.loc[subbasins_shp['Gauge_ID'] == basin_id]\n",
    "sel = sel.reset_index(drop=True)\n",
    "subbasins_shp = sel[['SubId', 'INSIDE_Y','INSIDE_X','Gauge_ID', 'geometry']]\n",
    "subbasins_shp = subbasins_shp.dissolve(by='SubId', aggfunc='mean').reset_index()\n",
    "subbasins_shp['Gauge_ID'] = basin_id\n",
    "subbasins_shp.rename(columns={'INSIDE_X':'centroid_x', 'INSIDE_Y':'centroid_y'}, inplace=True)\n",
    "subbasins_shp.to_file(project_root / f'{basin_id}_subbasins.shp')\n",
    "\n",
    "basin_shp = subbasins_shp.dissolve(by='Gauge_ID')\n",
    "basin_shp.to_file(project_root / f'{basin_id}.shp')"
   ]
  },
  {
   "cell_type": "code",
   "execution_count": 13,
   "id": "366646b4",
   "metadata": {},
   "outputs": [
    {
     "data": {
      "text/plain": [
       "'/home/glen/works/forcing_generate_test/preprocessing_scripts'"
      ]
     },
     "execution_count": 13,
     "metadata": {},
     "output_type": "execute_result"
    }
   ],
   "source": [
    "os.getcwd()"
   ]
  },
  {
   "cell_type": "code",
   "execution_count": 17,
   "id": "7290a526",
   "metadata": {},
   "outputs": [
    {
     "name": "stdout",
     "output_type": "stream",
     "text": [
      " \n",
      "   (1) Reading NetCDF (grid) data ...\n",
      "   >>> order of dimensions correct for variable \"lon\"\n",
      "   >>> order of dimensions correct for variable \"lat\"\n",
      " \n",
      "   (2) Reading shapefile data ...\n",
      "   >>> HRU_IDs found =  [1007.0]   (total:  1 )\n",
      " \n",
      "   (3) Generate shapes for NetCDF grid cells ...\n",
      "   >>> Latitudes done: 0 of 12\n",
      "   >>> Latitudes done: 10 of 12\n",
      " \n",
      "   (4) Deriving weights ...\n",
      "   >>> 1007,2,2,22,0.003803293964323388  (corrected to 0.0038032939643233357)\n",
      "   >>> 1007,2,3,23,0.011440692798719896  (corrected to 0.011440692798719738)\n",
      "   >>> 1007,2,4,24,0.00014106857310787718  (corrected to 0.00014106857310787523)\n",
      "   >>> 1007,2,5,25,2.4149151057657816e-05  (corrected to 2.4149151057657484e-05)\n",
      "   >>> 1007,3,2,32,0.02078242594385064  (corrected to 0.020782425943850356)\n",
      "   >>> 1007,3,3,33,0.028132560326822167  (corrected to 0.02813256032682178)\n",
      "   >>> 1007,3,4,34,0.02628480984595403  (corrected to 0.026284809845953667)\n",
      "   >>> 1007,3,5,35,0.024779895021807014  (corrected to 0.024779895021806674)\n",
      "   >>> 1007,3,6,36,0.01455871149378641  (corrected to 0.014558711493786208)\n",
      "   >>> 1007,3,7,37,1.9180878746445407e-05  (corrected to 1.9180878746445143e-05)\n",
      "   >>> 1007,4,1,41,0.00888635906293465  (corrected to 0.008886359062934527)\n",
      "   >>> 1007,4,2,42,0.02536591672890199  (corrected to 0.02536591672890164)\n",
      "   >>> 1007,4,3,43,0.028152409366437845  (corrected to 0.028152409366437457)\n",
      "   >>> 1007,4,4,44,0.028149195740647552  (corrected to 0.028149195740647164)\n",
      "   >>> 1007,4,5,45,0.028147800456778883  (corrected to 0.028147800456778494)\n",
      "   >>> 1007,4,6,46,0.02139617043433665  (corrected to 0.021396170434336354)\n",
      "   >>> 1007,4,7,47,0.0001071778929627724  (corrected to 0.00010717789296277093)\n",
      "   >>> 1007,5,1,51,0.015942267926102177  (corrected to 0.01594226792610196)\n",
      "   >>> 1007,5,2,52,0.02815725553811841  (corrected to 0.02815725553811802)\n",
      "   >>> 1007,5,3,53,0.02816482396040964  (corrected to 0.02816482396040925)\n",
      "   >>> 1007,5,4,54,0.028162122845726195  (corrected to 0.028162122845725807)\n",
      "   >>> 1007,5,5,55,0.028156734792925055  (corrected to 0.028156734792924666)\n",
      "   >>> 1007,5,6,56,0.027214231932039947  (corrected to 0.027214231932039572)\n",
      "   >>> 1007,5,7,57,0.020686128916081358  (corrected to 0.020686128916081074)\n",
      "   >>> 1007,5,8,58,0.011259320682973377  (corrected to 0.011259320682973223)\n",
      "   >>> 1007,6,0,60,0.00035650435713271625  (corrected to 0.0003565043571327113)\n",
      "   >>> 1007,6,1,61,0.02588588815480844  (corrected to 0.025885888154808082)\n",
      "   >>> 1007,6,2,62,0.028165894342799244  (corrected to 0.028165894342798856)\n",
      "   >>> 1007,6,3,63,0.02817315096329335  (corrected to 0.02817315096329296)\n",
      "   >>> 1007,6,4,64,0.028162157448101684  (corrected to 0.028162157448101296)\n",
      "   >>> 1007,6,5,65,0.028164764969741914  (corrected to 0.028164764969741525)\n",
      "   >>> 1007,6,6,66,0.028165273308507904  (corrected to 0.028165273308507516)\n",
      "   >>> 1007,6,7,67,0.028179420056707562  (corrected to 0.028179420056707174)\n",
      "   >>> 1007,6,8,68,0.015503151639834937  (corrected to 0.015503151639834723)\n",
      "   >>> 1007,7,0,70,0.00371534299551235  (corrected to 0.003715342995512299)\n",
      "   >>> 1007,7,1,71,0.018991665169925225  (corrected to 0.018991665169924964)\n",
      "   >>> 1007,7,2,72,0.028177044083946334  (corrected to 0.028177044083945946)\n",
      "   >>> 1007,7,3,73,0.028185700704044463  (corrected to 0.028185700704044074)\n",
      "   >>> 1007,7,4,74,0.028169662477795378  (corrected to 0.02816966247779499)\n",
      "   >>> 1007,7,5,75,0.02817862240796324  (corrected to 0.02817862240796285)\n",
      "   >>> 1007,7,6,76,0.028171127878869093  (corrected to 0.028171127878868704)\n",
      "   >>> 1007,7,7,77,0.026723989292931002  (corrected to 0.026723989292930635)\n",
      "   >>> 1007,7,8,78,0.0033632041987353926  (corrected to 0.003363204198735346)\n",
      "   >>> 1007,8,1,81,0.0010968230406517322  (corrected to 0.001096823040651717)\n",
      "   >>> 1007,8,2,82,0.013911302419499602  (corrected to 0.013911302419499411)\n",
      "   >>> 1007,8,3,83,0.01512546928839659  (corrected to 0.015125469288396382)\n",
      "   >>> 1007,8,4,84,0.024586706919727357  (corrected to 0.024586706919727017)\n",
      "   >>> 1007,8,5,85,0.02818835118458992  (corrected to 0.02818835118458953)\n",
      "   >>> 1007,8,6,86,0.027959855592260115  (corrected to 0.02795985559225973)\n",
      "   >>> 1007,8,7,87,0.005953407531239131  (corrected to 0.005953407531239049)\n",
      "   >>> 1007,9,4,94,0.003096541053933019  (corrected to 0.0030965410539329765)\n",
      "   >>> 1007,9,5,95,0.01334830314684191  (corrected to 0.013348303146841727)\n",
      "   >>> 1007,9,6,96,0.004190803246501908  (corrected to 0.00419080324650185)\n",
      "   >>> 1007,9,7,97,0.0001951678501703954  (corrected to 0.00019516785017039271)\n",
      "   >>> (Sub-)Basin: 1007 (1 of 1)\n",
      "   >>> Derived area of 54  cells: 3490547416.0832114\n",
      "   >>> Read area from shapefile:   3490547416.0832114\n",
      "   >>> error:                      0.0%\n",
      "   \n",
      "\n",
      "Wrote:  ../grid_weights_04040000.txt\n",
      "\n"
     ]
    },
    {
     "data": {
      "text/plain": [
       "0"
      ]
     },
     "execution_count": 17,
     "metadata": {},
     "output_type": "execute_result"
    }
   ],
   "source": [
    "os.system(f\"python derive_grid_weights.py\\\n",
    "                    -i ../RDRSv2.1_precip_UTC5_1h.nc\\\n",
    "                    -d 'rlon,rlat' -v 'lon,lat' \\\n",
    "                    -r ../{basin_id}.shp\\\n",
    "                    -o ../grid_weights_{basin_id}.txt -a -c 'SubId'\")"
   ]
  }
 ],
 "metadata": {
  "kernelspec": {
   "display_name": "srlstm",
   "language": "python",
   "name": "python3"
  },
  "language_info": {
   "codemirror_mode": {
    "name": "ipython",
    "version": 3
   },
   "file_extension": ".py",
   "mimetype": "text/x-python",
   "name": "python",
   "nbconvert_exporter": "python",
   "pygments_lexer": "ipython3",
   "version": "3.10.2"
  },
  "vscode": {
   "interpreter": {
    "hash": "09a452f0b3be5114134fdeb5eff7f48a6822774ed7b289d2a6803e07a5e24a68"
   }
  }
 },
 "nbformat": 4,
 "nbformat_minor": 5
}
