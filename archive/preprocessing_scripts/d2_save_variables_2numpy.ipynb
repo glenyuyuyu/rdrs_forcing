{
 "cells": [
  {
   "cell_type": "code",
   "execution_count": 4,
   "metadata": {},
   "outputs": [],
   "source": [
    "from pathlib import Path\n",
    "import numpy as np\n",
    "import xarray as xr\n",
    "import functools\n",
    "import multiprocessing as mp\n",
    "import os\n",
    "\n",
    "\n",
    "project_root = Path('/home/glen/works/forcing_generate/')\n",
    "merged_netcdf = 'RDRSv2.1_UTC0.nc'\n",
    "\n",
    "\n",
    "rdrs = xr.open_dataset(project_root / merged_netcdf)\n",
    "\n",
    "one_dim = len(rdrs['rlat']) * len(rdrs['rlon'])\n",
    "variables = list(rdrs.keys())\n",
    "variables.remove('rotated_pole')"
   ]
  },
  {
   "cell_type": "code",
   "execution_count": null,
   "metadata": {},
   "outputs": [],
   "source": []
  },
  {
   "cell_type": "code",
   "execution_count": 5,
   "metadata": {},
   "outputs": [],
   "source": [
    "# Save each variable to a numpy binary file (only used once)\n",
    "@functools.lru_cache(maxsize = None)\n",
    "def save_to_array(var : str):\n",
    "    huge_ncds = xr.open_dataset(project_root / merged_netcdf)\n",
    "    npy_path = project_root\n",
    "    if not os.path.isdir(npy_path):\n",
    "        os.makedirs(npy_path)\n",
    "    flat = huge_ncds[var].to_numpy().reshape(len(huge_ncds['time']), one_dim)\n",
    "    np.save(npy_path / f'{var}.npy', flat)\n",
    "\n",
    "\n",
    "def save_to_array_clear():\n",
    "    save_to_array.cache_clear()\n",
    "\n",
    "\n",
    "def save_to_array_wrapper(var : str):\n",
    "    save_to_array(var)\n",
    "    save_to_array_clear()\n",
    "\n",
    "\n",
    "pool = mp.Pool(processes = 4)\n",
    "pool.map(save_to_array_wrapper, variables)"
   ]
  }
 ],
 "metadata": {
  "kernelspec": {
   "display_name": "Python 3.10.2 ('nh')",
   "language": "python",
   "name": "python3"
  },
  "language_info": {
   "codemirror_mode": {
    "name": "ipython",
    "version": 3
   },
   "file_extension": ".py",
   "mimetype": "text/x-python",
   "name": "python",
   "nbconvert_exporter": "python",
   "pygments_lexer": "ipython3",
   "version": "3.10.2"
  },
  "orig_nbformat": 4,
  "vscode": {
   "interpreter": {
    "hash": "050ccd53de7cd309cea70763e96a1d0412a295cd14f57b4157146789be3c5d89"
   }
  }
 },
 "nbformat": 4,
 "nbformat_minor": 2
}
